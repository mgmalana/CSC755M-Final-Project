{
 "cells": [
  {
   "cell_type": "markdown",
   "metadata": {},
   "source": [
    "## Improvements:\n",
    "* use vectorized operations raw for numpy.\n",
    "*  pwede mo hanapin numpy operations about divide\n",
    "*  isipin if euclidean or manhattan ang gagamitin\n"
   ]
  },
  {
   "cell_type": "code",
   "execution_count": 55,
   "metadata": {
    "collapsed": false
   },
   "outputs": [],
   "source": [
    "import pandas as pd\n",
    "import numpy as np\n",
    "from sklearn import preprocessing\n",
    "\n",
    "#dataframe that keeps the data\n",
    "df = pd.read_csv(\"wine.csv\")\n",
    "#set this to the desired number of inputs\n",
    "numCentroids = 4\n",
    "\n",
    "#set this to max iterations\n",
    "maxIteration = 10000\n",
    "\n",
    "data = df.values"
   ]
  },
  {
   "cell_type": "code",
   "execution_count": 56,
   "metadata": {
    "collapsed": false,
    "scrolled": false
   },
   "outputs": [
    {
     "data": {
      "text/plain": [
       "array([[  1.42300000e+01,   1.71000000e+00,   2.43000000e+00, ...,\n",
       "          1.04000000e+00,   3.92000000e+00,   1.06500000e+03],\n",
       "       [  1.32000000e+01,   1.78000000e+00,   2.14000000e+00, ...,\n",
       "          1.05000000e+00,   3.40000000e+00,   1.05000000e+03],\n",
       "       [  1.31600000e+01,   2.36000000e+00,   2.67000000e+00, ...,\n",
       "          1.03000000e+00,   3.17000000e+00,   1.18500000e+03],\n",
       "       ..., \n",
       "       [  1.32700000e+01,   4.28000000e+00,   2.26000000e+00, ...,\n",
       "          5.90000000e-01,   1.56000000e+00,   8.35000000e+02],\n",
       "       [  1.31700000e+01,   2.59000000e+00,   2.37000000e+00, ...,\n",
       "          6.00000000e-01,   1.62000000e+00,   8.40000000e+02],\n",
       "       [  1.41300000e+01,   4.10000000e+00,   2.74000000e+00, ...,\n",
       "          6.10000000e-01,   1.60000000e+00,   5.60000000e+02]])"
      ]
     },
     "execution_count": 56,
     "metadata": {},
     "output_type": "execute_result"
    }
   ],
   "source": [
    "data"
   ]
  },
  {
   "cell_type": "code",
   "execution_count": 57,
   "metadata": {
    "collapsed": false,
    "scrolled": true
   },
   "outputs": [
    {
     "name": "stdout",
     "output_type": "stream",
     "text": [
      "Data has converged\n",
      "Iteration 15\n",
      "dataClusters [ 2.  2.  2.  3.  0.  3.  2.  2.  2.  2.  3.  2.  2.  2.  3.  2.  2.  2.\n",
      "  3.  0.  0.  0.  2.  2.  0.  0.  2.  2.  0.  2.  2.  3.  2.  2.  2.  0.\n",
      "  0.  2.  2.  0.  0.  2.  2.  0.  0.  2.  2.  2.  2.  2.  2.  2.  2.  3.\n",
      "  2.  2.  2.  2.  2.  1.  0.  1.  0.  1.  1.  0.  1.  1.  0.  0.  0.  1.\n",
      "  1.  2.  0.  1.  1.  1.  0.  1.  1.  0.  0.  1.  1.  1.  1.  1.  0.  0.\n",
      "  1.  1.  1.  1.  1.  2.  0.  1.  0.  1.  0.  1.  1.  1.  0.  1.  1.  1.\n",
      "  1.  0.  1.  1.  0.  1.  1.  1.  1.  1.  1.  1.  0.  1.  1.  1.  1.  1.\n",
      "  1.  1.  1.  1.  0.  1.  1.  0.  0.  0.  0.  1.  1.  1.  0.  0.  1.  1.\n",
      "  0.  0.  1.  0.  0.  1.  1.  1.  1.  0.  0.  0.  1.  0.  0.  0.  1.  0.\n",
      "  1.  0.  0.  1.  0.  0.  0.  0.  1.  1.  0.  0.  0.  0.  0.  1.]\n",
      "centroids [[  1.29373770e+01   2.52016393e+00   2.41147541e+00   1.99049180e+01\n",
      "    1.02639344e+02   2.10475410e+00   1.57278689e+00   3.89508197e-01\n",
      "    1.47426230e+00   5.70032787e+00   8.79442623e-01   2.36114754e+00\n",
      "    7.24918033e+02]\n",
      " [  1.25166667e+01   2.49420290e+00   2.28855072e+00   2.08231884e+01\n",
      "    9.23478261e+01   2.07072464e+00   1.75840580e+00   3.90144928e-01\n",
      "    1.45188406e+00   4.08695651e+00   9.41159420e-01   2.49072464e+00\n",
      "    4.58231884e+02]\n",
      " [  1.37241463e+01   1.88170732e+00   2.41658537e+00   1.71804878e+01\n",
      "    1.06341463e+02   2.79829268e+00   2.93146341e+00   2.85609756e-01\n",
      "    1.90463415e+00   5.38829268e+00   1.07390244e+00   3.11926829e+00\n",
      "    1.13541463e+03]\n",
      " [  1.40842857e+01   1.84142857e+00   2.45000000e+00   1.63857143e+01\n",
      "    1.08714286e+02   3.21857143e+00   3.39285714e+00   2.88571429e-01\n",
      "    2.14000000e+00   7.10000000e+00   1.11571429e+00   3.01428571e+00\n",
      "    1.50814286e+03]]\n",
      "data [[  1.42300000e+01   1.71000000e+00   2.43000000e+00 ...,   1.04000000e+00\n",
      "    3.92000000e+00   1.06500000e+03]\n",
      " [  1.32000000e+01   1.78000000e+00   2.14000000e+00 ...,   1.05000000e+00\n",
      "    3.40000000e+00   1.05000000e+03]\n",
      " [  1.31600000e+01   2.36000000e+00   2.67000000e+00 ...,   1.03000000e+00\n",
      "    3.17000000e+00   1.18500000e+03]\n",
      " ..., \n",
      " [  1.32700000e+01   4.28000000e+00   2.26000000e+00 ...,   5.90000000e-01\n",
      "    1.56000000e+00   8.35000000e+02]\n",
      " [  1.31700000e+01   2.59000000e+00   2.37000000e+00 ...,   6.00000000e-01\n",
      "    1.62000000e+00   8.40000000e+02]\n",
      " [  1.41300000e+01   4.10000000e+00   2.74000000e+00 ...,   6.10000000e-01\n",
      "    1.60000000e+00   5.60000000e+02]]\n"
     ]
    }
   ],
   "source": [
    "'''\n",
    "Get k centroids\n",
    "Check each if san pinakamalapit\n",
    "then average. then thats the new centroid\n",
    "loop until converges or reached limit\n",
    "'''\n",
    "\n",
    "def cluster(numCentroids, maxIteration):\n",
    "    '''\n",
    "    numFeatures - number of features or columns of the data\n",
    "    dataClusters - the clusters of each row of the data\n",
    "    centroids - centroids and its features\n",
    "    centMembCount - centtroid member count. each data row is assigned to a centroid. used for averaging\n",
    "    centFeatureSum - sum of all feature values of rows that are nearest to each centroid. used for averaging \n",
    "    iteration - iteration number\n",
    "    '''\n",
    "    numFeatures = len(data[0])\n",
    "    \n",
    "    dataClusters = np.zeros(len(data))\n",
    "    centroids = getInitialCentroids(data, numCentroids)\n",
    "    centMembCount = np.zeros((numCentroids,1), dtype=np.int)\n",
    "    centFeatureSum = np.zeros((numCentroids, numFeatures))\n",
    "    iteration = 0\n",
    "    while(True):\n",
    "        centroidsCopy = centroids.copy() #gets a copy of the centroid\n",
    "\n",
    "        #finds the nearest centroid\n",
    "        for i, row in enumerate(data):  \n",
    "            nearestCentroid = getNearestCentroid(centroids, row, numCentroids)\n",
    "            dataClusters[i] = nearestCentroid #sets the centroid of the row\n",
    "            centMembCount[nearestCentroid] += 1 #adds cluster member count\n",
    "            for j in range(numFeatures): #this loop adds the values to centFeatureSum\n",
    "                  centFeatureSum[nearestCentroid][j] += data[i][j]        \n",
    "        \n",
    "        #gets new centroid values\n",
    "        centroids = centFeatureSum / centMembCount\n",
    "        \n",
    "        #reset values\n",
    "        centMembCount[:] = 0\n",
    "        centFeatureSum[:] = 0\n",
    "        \n",
    "        iteration += 1\n",
    "        \n",
    "        #checks if centroids didnt move or program reached maximum Iteration\n",
    "        if(np.array_equal(centroidsCopy, centroids )):\n",
    "            print(\"Data has converged\")\n",
    "            break\n",
    "        elif  iteration > maxIteration:\n",
    "            print(\"Data reached max iteration\")\n",
    "            break\n",
    "    \n",
    "    print(\"Iteration\", iteration)\n",
    "    print(\"dataClusters\", dataClusters)\n",
    "    print(\"centroids\", centroids)\n",
    "    print(\"data\", data)\n",
    "    \n",
    "def getNearestCentroid(centroids, row, numCentroids):\n",
    "    dist = np.linalg.norm(centroids[0]-row) #get distance\n",
    "    nearestC = 0\n",
    "    \n",
    "    for i in range(1, numCentroids):\n",
    "        newDist = np.linalg.norm(centroids[i] - row)\n",
    "        if(newDist < dist):\n",
    "            dist = newDist\n",
    "            nearestC = i\n",
    "    \n",
    "    return nearestC \n",
    " \n",
    "def getInitialCentroids(data, numCentroids):\n",
    "    return data[:numCentroids] #returns the first n number of rows as centroids\n",
    "\n",
    "\n",
    "cluster(numCentroids, maxIteration)"
   ]
  },
  {
   "cell_type": "code",
   "execution_count": null,
   "metadata": {
    "collapsed": true
   },
   "outputs": [],
   "source": []
  }
 ],
 "metadata": {
  "kernelspec": {
   "display_name": "Python 3",
   "language": "python",
   "name": "python3"
  },
  "language_info": {
   "codemirror_mode": {
    "name": "ipython",
    "version": 3
   },
   "file_extension": ".py",
   "mimetype": "text/x-python",
   "name": "python",
   "nbconvert_exporter": "python",
   "pygments_lexer": "ipython3",
   "version": "3.6.0"
  }
 },
 "nbformat": 4,
 "nbformat_minor": 2
}
