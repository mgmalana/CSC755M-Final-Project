{
 "cells": [
  {
   "cell_type": "code",
   "execution_count": 1,
   "metadata": {
    "collapsed": false
   },
   "outputs": [],
   "source": [
    "import numpy as np\n",
    "from sklearn.manifold import TSNE\n",
    "import pandas as pd\n",
    "\n",
    "df = pd.read_csv(\"movies.tsv\", \"\\t\")\n",
    "df = df[pd.notnull(df['budget'])]\n",
    "df = df.drop(\"title\",1)\n",
    "df = df.drop(\"mpaa\",1)\n",
    "df = df.head(10000)\n",
    "X = df.values\n",
    "model = TSNE(n_components=2, random_state=0, method='barnes_hut')\n",
    "np.set_printoptions(suppress=True)\n",
    "tsneResults = model.fit_transform(X)\n"
   ]
  },
  {
   "cell_type": "code",
   "execution_count": 15,
   "metadata": {
    "collapsed": true
   },
   "outputs": [],
   "source": [
    "import numpy as np\n",
    "from sklearn.manifold import TSNE\n",
    "import pandas as pd\n",
    "\n",
    "df = pd.read_csv(\"wine.csv\")\n",
    "X = df.values\n",
    "model = TSNE(n_components=2, random_state=0, method='barnes_hut')\n",
    "np.set_printoptions(suppress=True)\n",
    "tsneResults = model.fit_transform(X)\n"
   ]
  },
  {
   "cell_type": "code",
   "execution_count": 16,
   "metadata": {
    "collapsed": false
   },
   "outputs": [
    {
     "data": {
      "image/png": "[encoded data removed]",
      "text/plain": [
       "<matplotlib.figure.Figure at 0x7f48ad4b75c0>"
      ]
     },
     "metadata": {},
     "output_type": "display_data"
    }
   ],
   "source": [
    "import matplotlib.pyplot as plt\n",
    "from matplotlib.ticker import NullFormatter\n",
    "fig = plt.figure(figsize=(15, 8))\n",
    "ax = fig.add_subplot(2, 5, 10)\n",
    "plt.scatter(tsneResults[:, 0], tsneResults[:, 1], cmap=plt.cm.Spectral)\n",
    "ax.xaxis.set_major_formatter(NullFormatter())\n",
    "ax.yaxis.set_major_formatter(NullFormatter())\n",
    "plt.axis('tight')\n",
    "\n",
    "plt.show()\n"
   ]
  },
  {
   "cell_type": "code",
   "execution_count": 7,
   "metadata": {
    "collapsed": false
   },
   "outputs": [
    {
     "data": {
      "text/plain": [
       "array([[  2.27213789,  -5.60601662],\n",
       "       [ -0.92432673,  -9.97001469],\n",
       "       [  2.95527231,   1.57163159],\n",
       "       ..., \n",
       "       [ 10.53628199,   0.59167487],\n",
       "       [  0.55365757,  -5.98385844],\n",
       "       [ -9.33445553,  -4.55592774]])"
      ]
     },
     "execution_count": 7,
     "metadata": {},
     "output_type": "execute_result"
    }
   ],
   "source": []
  },
  {
   "cell_type": "code",
   "execution_count": null,
   "metadata": {
    "collapsed": true
   },
   "outputs": [],
   "source": []
  }
 ],
 "metadata": {
  "kernelspec": {
   "display_name": "Python 3",
   "language": "python",
   "name": "python3"
  },
  "language_info": {
   "codemirror_mode": {
    "name": "ipython",
    "version": 3
   },
   "file_extension": ".py",
   "mimetype": "text/x-python",
   "name": "python",
   "nbconvert_exporter": "python",
   "pygments_lexer": "ipython3",
   "version": "3.5.2"
  }
 },
 "nbformat": 4,
 "nbformat_minor": 2
}
